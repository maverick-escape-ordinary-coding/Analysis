{
 "cells": [
  {
   "cell_type": "markdown",
   "metadata": {},
   "source": [
    "## UFCFVQ-15-M Programming for Data Science\n",
    "# Programming Task 1\n",
    "\n",
    "## Student Id: 20031200"
   ]
  },
  {
   "cell_type": "markdown",
   "metadata": {},
   "source": [
    "\n",
    "**Coding Structure:**\n",
    "\n",
    "Planned to implement OOPS concepts but decided to follow the procedure as told.\n",
    "\n",
    "- **Custom Functions Section**\n",
    "- **Task Section**\n",
    "\n",
    "**Initial Common Approach** for Requirement 1 to 7. Hereafter will be addressing this as &quot; **ICA**&quot;,\n",
    "\n",
    "1. I wanted to do something creative for dummy input data. So, I thought of using our repo name as input which would then be converted to list of numbers. Therefore, I&#39;ve written custom function generate\\_numbers() to convert input string into list of numbers based on ASCII value.\n",
    "2. Validate if all the input values are integers."
   ]
  },
  {
   "cell_type": "markdown",
   "metadata": {},
   "source": [
    "### Custom Functions ###\n",
    "These are the some of my customary functions that will be used for each task to facilitate efficient implementation."
   ]
  },
  {
   "cell_type": "code",
   "execution_count": 1,
   "metadata": {},
   "outputs": [],
   "source": [
    "def generate_numbers(my_identity):\n",
    "    '''\n",
    "    Generate list of numbers based on the string\n",
    "    input: String\n",
    "    output: List\n",
    "    '''\n",
    "    return list(set([ord(eachCharacter) for eachCharacter in my_identity]))\n",
    "\n",
    "def validate_number_list(item_list):\n",
    "    '''\n",
    "    Check if all items of a list are numbers\n",
    "    input: List\n",
    "    output: Boolean\n",
    "    '''\n",
    "    if all(isinstance(each_item, int) for each_item in item_list) or all(isinstance(each_item, float) for each_item in item_list):\n",
    "        return True\n",
    "    else:\n",
    "        return False\n",
    "\n",
    "def run_statistics_function(stat_function,my_repository,want_to_generate_numbers = True):\n",
    "    '''\n",
    "    Functional Code Reusability\n",
    "    input: Function Name, Input Value, Boolean to generate numbers\n",
    "    '''\n",
    "    try:\n",
    "        return stat_function(my_repository,want_to_generate_numbers)\n",
    "    except:\n",
    "        pass\n",
    "        \n",
    "def round_up_largest_next(n):\n",
    "    '''\n",
    "    Round number to the next largest\n",
    "    input: Number (Integer / Floating point)\n",
    "    output: Integer\n",
    "    '''\n",
    "    return int(-1 * n // 1 * -1)\n"
   ]
  },
  {
   "cell_type": "markdown",
   "metadata": {},
   "source": [
    "### Requirement FR1.1 - Find the arithmetic mean\n",
    "1. Performed ICA with an additional condition to generate our own data or use a custom data.\n",
    "2. Raising custom error messages if ICA fails.\n",
    "3. Store Length of the list - lengthValue\n",
    "4. Store sum of all the numbers in the list - sumValue\n",
    "5. Formula: round((sumValue / lengthValue),2)\n",
    "        \n",
    "$$\\bar{X} = \\frac{\\sum_{i=1}^{n} x_{i}}{n}$$"
   ]
  },
  {
   "cell_type": "code",
   "execution_count": 2,
   "metadata": {},
   "outputs": [],
   "source": [
    "def find_arithmetic_mean(my_input,want_to_generate_numbers):\n",
    "    '''\n",
    "    Find Arithmetic Mean for a list of numbers\n",
    "    input: String, Boolean\n",
    "    output: float\n",
    "    '''\n",
    "    if len(my_input) > 1:\n",
    "        if want_to_generate_numbers == True:\n",
    "            sample_numbers = generate_numbers(my_input)\n",
    "        else:\n",
    "            sample_numbers = my_input\n",
    "\n",
    "        if validate_number_list(sample_numbers):\n",
    "            lengthValue = len(sample_numbers)\n",
    "            sumValue = sum(sample_numbers)\n",
    "            return round((sumValue / lengthValue),2)\n",
    "        else:\n",
    "            raise ValueError(\"Invalid Input List! List has characters others than numbers\")\n",
    "    else:\n",
    "        raise ValueError(\"Cannot Accept Input! Please enter more than one character\")"
   ]
  },
  {
   "cell_type": "markdown",
   "metadata": {},
   "source": [
    "#### Test FR1.1 ####"
   ]
  },
  {
   "cell_type": "code",
   "execution_count": 3,
   "metadata": {},
   "outputs": [
    {
     "name": "stdout",
     "output_type": "stream",
     "text": [
      "The Arithmetic Mean is 78.25\n"
     ]
    }
   ],
   "source": [
    "my_repository = \"20031200_fvq_2021\"        \n",
    "print(\"The Arithmetic Mean is {0}\".format(run_statistics_function(find_arithmetic_mean,my_repository)))"
   ]
  },
  {
   "cell_type": "markdown",
   "metadata": {},
   "source": [
    "### Requirement FR1.2 - Find the standard deviation\n",
    "\n",
    "1. Performed ICA with an additional condition to generate our own data or use a custom data.\n",
    "2. Raising custom error messages if ICA fails.\n",
    "3. Store Arithmetic Mean value\n",
    "4. Formula: round((sum([((x - arithmeticMeanValue) ** 2) for x in sample_numbers])/ len(sample_numbers)) ** 0.5,2)\n",
    "\n",
    "$$s = \\sqrt{s^{2}} = \\sqrt{\\frac{SS}{N - 1}} = \\sqrt{\\frac{\\sum (x_{i} - \\bar{x})^{2}}{N - 1}}$$        "
   ]
  },
  {
   "cell_type": "code",
   "execution_count": 4,
   "metadata": {},
   "outputs": [],
   "source": [
    "def find_standard_deviation(my_input,want_to_generate_numbers):\n",
    "    '''\n",
    "    Find Standard Deviation for list of numbers\n",
    "    input: String, Boolean\n",
    "    output: float    \n",
    "    '''\n",
    "    arithmetic_mean_value = find_arithmetic_mean(my_input,want_to_generate_numbers)\n",
    "    \n",
    "    if len(my_input) > 1:\n",
    "        if want_to_generate_numbers == True:\n",
    "            sample_numbers = generate_numbers(my_input)\n",
    "        else:\n",
    "            sample_numbers = my_input \n",
    "        \n",
    "        if validate_number_list(sample_numbers):\n",
    "            return round((sum([((x - arithmetic_mean_value) ** 2) for x in sample_numbers]) / len(sample_numbers)) ** 0.5,2)\n",
    "        else:\n",
    "            raise ValueError(\"Invalid Input List! List has characters others than numbers\")\n",
    "    else:\n",
    "        raise ValueError(\"Cannot Accept Input! Please enter more than one character\")    "
   ]
  },
  {
   "cell_type": "markdown",
   "metadata": {},
   "source": [
    "#### Test FR1.2 ####"
   ]
  },
  {
   "cell_type": "code",
   "execution_count": 5,
   "metadata": {},
   "outputs": [
    {
     "name": "stdout",
     "output_type": "stream",
     "text": [
      "The Standard Deviation is 29.46\n"
     ]
    }
   ],
   "source": [
    "my_repository = \"20031200_fvq_2021\"        \n",
    "print(\"The Standard Deviation is {0}\".format(run_statistics_function(find_standard_deviation,my_repository)))"
   ]
  },
  {
   "cell_type": "markdown",
   "metadata": {},
   "source": [
    "### Requirement FR1.3 - Find the min/max values \n",
    "\n",
    "  1. Performed ICA with an additional condition to generate our own data or use a custom data.\n",
    "  2. Raising custom error messages if ICA fails.\n",
    "  3. Sort the list in ascending order.\n",
    "  4. Get the First item in the list as the smallest number.\n",
    "  5. Get the Last item in the list as the largest number."
   ]
  },
  {
   "cell_type": "code",
   "execution_count": 6,
   "metadata": {},
   "outputs": [],
   "source": [
    "def find_min_value(my_input,want_to_generate_numbers):\n",
    "    '''\n",
    "    Find Minumim and Maximum number from a list of numbers\n",
    "    input: String, Boolean\n",
    "    output: Integer    \n",
    "    '''\n",
    "    \n",
    "    if len(my_input) > 1:\n",
    "        if want_to_generate_numbers == True:\n",
    "            sample_numbers = generate_numbers(my_input)\n",
    "        else:\n",
    "            sample_numbers = my_input \n",
    "        \n",
    "        if validate_number_list(sample_numbers):\n",
    "            sample_numbers = sorted(sample_numbers)\n",
    "            return (sample_numbers[0])\n",
    "        else:\n",
    "            raise ValueError(\"Invalid Input List! List has characters others than numbers\")\n",
    "    else:\n",
    "        raise ValueError(\"Cannot Accept Input! Please enter more than one character\")   \n",
    "        \n",
    "def find_max_value(my_input,want_to_generate_numbers):\n",
    "    '''\n",
    "    Find Minumim and Maximum number from a list of numbers\n",
    "    '''\n",
    "    \n",
    "    if len(my_input) > 1:\n",
    "        if want_to_generate_numbers == True:\n",
    "            sample_numbers = generate_numbers(my_input)\n",
    "        else:\n",
    "            sample_numbers = my_input \n",
    "        \n",
    "        if validate_number_list(sample_numbers):\n",
    "            sample_numbers = sorted(sample_numbers)\n",
    "            return (sample_numbers[-1])\n",
    "        else:\n",
    "            raise ValueError(\"Invalid Input List! List has characters others than numbers\")\n",
    "    else:\n",
    "        raise ValueError(\"Cannot Accept Input! Please enter more than one character\")           "
   ]
  },
  {
   "cell_type": "markdown",
   "metadata": {},
   "source": [
    "#### Test FR1.3 ####"
   ]
  },
  {
   "cell_type": "code",
   "execution_count": 7,
   "metadata": {},
   "outputs": [
    {
     "name": "stdout",
     "output_type": "stream",
     "text": [
      "Minimum Value is 48\n",
      "Maximum Value is 118\n"
     ]
    }
   ],
   "source": [
    "my_repository = \"20031200_fvq_2021\"       \n",
    "print(\"Minimum Value is {0}\".format(run_statistics_function(find_min_value,my_repository)))\n",
    "print(\"Maximum Value is {0}\".format(run_statistics_function(find_max_value,my_repository)))"
   ]
  },
  {
   "cell_type": "markdown",
   "metadata": {},
   "source": [
    "### Requirement FR1.4 - Find the 25th percentile \n",
    "  1. Performed ICA with an additional condition to generate our own data or use a custom data.\n",
    "  2. Raising custom error messages if ICA fails.\n",
    "  3. Store length of the list\n",
    "  4. For the sorted list, Multiple the length of the list by 25 and divided by 100. Then using a custom function ive written to round off the calculation to the next largest and then subtracting 1 to it.\n",
    "\n",
    "   **Formula**: sorted(sample_numbers)[int(roundup_largest_next((size * 25) / 100)) - 1]"
   ]
  },
  {
   "cell_type": "code",
   "execution_count": 8,
   "metadata": {},
   "outputs": [],
   "source": [
    "def find_25th_percentile(my_input,want_to_generate_numbers):\n",
    "    '''\n",
    "    Find 25th percentile of a list of numbers\n",
    "    input: String, Boolean\n",
    "    output: Integer    \n",
    "    '''\n",
    "    \n",
    "    if len(my_input) > 1:\n",
    "        if want_to_generate_numbers == True:\n",
    "            sample_numbers = generate_numbers(my_input)\n",
    "        else:\n",
    "            sample_numbers = my_input \n",
    "        \n",
    "        if validate_number_list(sample_numbers):\n",
    "            size = len(sample_numbers)\n",
    "            return sorted(sample_numbers)[int(round_up_largest_next((size * 25) / 100)) - 1]\n",
    "        else:\n",
    "            raise ValueError(\"Invalid Input List! List has characters others than numbers\")\n",
    "    else:\n",
    "        raise ValueError(\"Cannot Accept Input! Please enter more than one character\") "
   ]
  },
  {
   "cell_type": "markdown",
   "metadata": {},
   "source": [
    "#### Test FR1.4 ####"
   ]
  },
  {
   "cell_type": "code",
   "execution_count": 9,
   "metadata": {},
   "outputs": [
    {
     "name": "stdout",
     "output_type": "stream",
     "text": [
      "Value of 25th percentile is 49\n"
     ]
    }
   ],
   "source": [
    "my_repository = \"20031200_fvq_2021\"        \n",
    "print(\"Value of 25th percentile is {0}\".format(run_statistics_function(find_25th_percentile,my_repository)))"
   ]
  },
  {
   "cell_type": "markdown",
   "metadata": {},
   "source": [
    "### Requirement FR1.5 - Find the 50th percentile\n",
    "  1. Performed ICA with an additional condition to generate our own data or use a custom data.\n",
    "  2. Raising custom error messages if ICA fails.\n",
    "  3. Store length of the list\n",
    "  4. For the sorted list, Multiple the length of the list by 50 and divided by 100. Then using a custom function ive written to round off the calculation to the next largest and then subtracting 1 to it.\n",
    "\n",
    "   **Formula**: sorted(sample_numbers)[int(roundup_largest_next((size * 50) / 100)) - 1]"
   ]
  },
  {
   "cell_type": "code",
   "execution_count": 10,
   "metadata": {},
   "outputs": [],
   "source": [
    "def find_50th_percentile(my_input,want_to_generate_numbers):\n",
    "    '''\n",
    "    Find 50th percentile of a list of numbers\n",
    "    input: String, Boolean\n",
    "    output: Integer    \n",
    "    '''\n",
    "    \n",
    "    if len(my_input) > 1:\n",
    "        if want_to_generate_numbers == True:\n",
    "            sample_numbers = generate_numbers(my_input)\n",
    "        else:\n",
    "            sample_numbers = my_input \n",
    "        \n",
    "        if validate_number_list(sample_numbers):\n",
    "            size = len(sample_numbers)\n",
    "            return sorted(sample_numbers)[int(round_up_largest_next((size * 50) / 100)) - 1]\n",
    "        else:\n",
    "            raise ValueError(\"Invalid Input List! List has characters others than numbers\")\n",
    "    else:\n",
    "        raise ValueError(\"Cannot Accept Input! Please enter more than one character\") "
   ]
  },
  {
   "cell_type": "markdown",
   "metadata": {},
   "source": [
    "#### Test FR1.5 ####"
   ]
  },
  {
   "cell_type": "code",
   "execution_count": 11,
   "metadata": {},
   "outputs": [
    {
     "name": "stdout",
     "output_type": "stream",
     "text": [
      "Value of 50th percentile is 51\n"
     ]
    }
   ],
   "source": [
    "my_repository = \"20031200_fvq_2021\"        \n",
    "print(\"Value of 50th percentile is {0}\".format(run_statistics_function(find_50th_percentile,my_repository,True)))"
   ]
  },
  {
   "cell_type": "markdown",
   "metadata": {},
   "source": [
    "### Requirement FR1.6 - Find the 75th percentile\n",
    "  1. Performed ICA with an additional condition to generate our own data or use a custom data.\n",
    "  2. Raising custom error messages if ICA fails.\n",
    "  3. Store length of the list\n",
    "  4. For the sorted list, Multiple the length of the list by 75 and divided by 100. Then using a custom function ive written to round off the calculation to the next largest and then subtracting 1 to it.\n",
    "\n",
    "   **Formula**: sorted(sample_numbers)[int(roundup_largest_next((size * 75) / 100)) - 1]"
   ]
  },
  {
   "cell_type": "code",
   "execution_count": 12,
   "metadata": {},
   "outputs": [],
   "source": [
    "def find_75th_percentile(my_input,want_to_generate_numbers):\n",
    "    '''\n",
    "    Find 75th percentile of a list of numbers\n",
    "    input: String, Boolean\n",
    "    output: Integer    \n",
    "    '''\n",
    "    \n",
    "    if len(my_input) > 1:\n",
    "        if want_to_generate_numbers == True:\n",
    "            sample_numbers = generate_numbers(my_input)\n",
    "        else:\n",
    "            sample_numbers = my_input  \n",
    "        \n",
    "        if validate_number_list(sample_numbers):\n",
    "            size = len(sample_numbers)\n",
    "            return sorted(sample_numbers)[int(round_up_largest_next((size * 75) / 100)) - 1]\n",
    "        else:\n",
    "            raise ValueError(\"Invalid Input List! List has characters others than numbers\")\n",
    "    else:\n",
    "        raise ValueError(\"Cannot Accept Input! Please enter more than one character\") "
   ]
  },
  {
   "cell_type": "markdown",
   "metadata": {},
   "source": [
    "#### Test FR1.6 ####"
   ]
  },
  {
   "cell_type": "code",
   "execution_count": 13,
   "metadata": {},
   "outputs": [
    {
     "name": "stdout",
     "output_type": "stream",
     "text": [
      "Value of 75th percentile is 102\n"
     ]
    }
   ],
   "source": [
    "my_repository = \"20031200_fvq_2021\"        \n",
    "print(\"Value of 75th percentile is {0}\".format(run_statistics_function(find_75th_percentile,my_repository,True)))"
   ]
  },
  {
   "cell_type": "markdown",
   "metadata": {},
   "source": [
    "### Requirement FR1.7 - Print the set of summary statistics in tabular form\n",
    "My Goal was to make a collection of the functions written for Requirement 1.1 to 1.6.\n",
    "\n",
    "  1. To facilitate code reusability, I wrote custom function run\\_statistics\\_function () to enable running similar parametric functions with just one call.\n",
    "  2. Made a collection of the functions as a list of lists where each list has two items (string - statistic function and function of every query).\n",
    "  3. Looped through each function result list and formatted the print with 15 whitespaces between the statistic function and the result."
   ]
  },
  {
   "cell_type": "code",
   "execution_count": 41,
   "metadata": {},
   "outputs": [],
   "source": [
    "def print_summary_statistics(my_repository):\n",
    "    '''\n",
    "    Print Set of Summary statistics in tabular form\n",
    "    input: String\n",
    "    output: Strings and Numbers\n",
    "    '''\n",
    "    statistic_values_collection = []\n",
    "    statistic_value = []\n",
    "    \n",
    "    statistic_values_collection=[[\"COUNT\",len(generate_numbers(my_repository))],\n",
    "                        [\"MEAN\",run_statistics_function(find_arithmetic_mean,my_repository)],\n",
    "                        [\"STD\",run_statistics_function(find_standard_deviation,my_repository)],\n",
    "                        [\"MIN\",run_statistics_function(find_min_value,my_repository)],\n",
    "                        [\"First Quartile\",run_statistics_function(find_25th_percentile,my_repository)],\n",
    "                        [\"Second Quartile\",run_statistics_function(find_50th_percentile,my_repository)],\n",
    "                        [\"Third Quartile\",run_statistics_function(find_75th_percentile,my_repository)],\n",
    "                        [\"MAX\",run_statistics_function(find_max_value,my_repository)]]\n",
    "    \n",
    "    for row in statistic_values_collection:\n",
    "        print('-'*38)\n",
    "        print(\"|{:^15}|{:^20}|\".format(*row))\n",
    "        print('-'*38)"
   ]
  },
  {
   "cell_type": "markdown",
   "metadata": {},
   "source": [
    "#### Test FR1.7 ####"
   ]
  },
  {
   "cell_type": "code",
   "execution_count": 42,
   "metadata": {},
   "outputs": [
    {
     "name": "stdout",
     "output_type": "stream",
     "text": [
      "--------------------------------------\n",
      "|     COUNT     |         8          |\n",
      "--------------------------------------\n",
      "--------------------------------------\n",
      "|     MEAN      |       78.25        |\n",
      "--------------------------------------\n",
      "--------------------------------------\n",
      "|      STD      |       29.46        |\n",
      "--------------------------------------\n",
      "--------------------------------------\n",
      "|      MIN      |         48         |\n",
      "--------------------------------------\n",
      "--------------------------------------\n",
      "|First Quartile |         49         |\n",
      "--------------------------------------\n",
      "--------------------------------------\n",
      "|Second Quartile|         51         |\n",
      "--------------------------------------\n",
      "--------------------------------------\n",
      "|Third Quartile |        102         |\n",
      "--------------------------------------\n",
      "--------------------------------------\n",
      "|      MAX      |        118         |\n",
      "--------------------------------------\n"
     ]
    }
   ],
   "source": [
    "my_repository = \"20031200_fvq_2021\"\n",
    "print_summary_statistics(my_repository)"
   ]
  },
  {
   "cell_type": "markdown",
   "metadata": {},
   "source": [
    "### Requirement FR1.8 - Read data from a file into memory\n",
    "  1. To facilitate code reunibility, I wrote custom function run\\_statistics\\_function () to enable running similar parametric functions with just one call.\n",
    "  2. While the input file task1.data is open, looped through each data, stripped the string, parsed as integer and store as a list."
   ]
  },
  {
   "cell_type": "code",
   "execution_count": 16,
   "metadata": {},
   "outputs": [],
   "source": [
    "def read_data_into_memory(file_path):\n",
    "    '''\n",
    "    Reading data from .data file and storing into list\n",
    "    input: String - Input File path\n",
    "    output: List\n",
    "    \n",
    "    '''\n",
    "    with open(file_path) as file_obj:\n",
    "        result = [int(i.strip()) for i in file_obj]\n",
    "    return result"
   ]
  },
  {
   "cell_type": "markdown",
   "metadata": {},
   "source": [
    "#### Test FR1.8 ####"
   ]
  },
  {
   "cell_type": "code",
   "execution_count": 17,
   "metadata": {},
   "outputs": [
    {
     "name": "stdout",
     "output_type": "stream",
     "text": [
      "The first five contents of the data list is [148, 85, 183, 89, 137]\n"
     ]
    }
   ],
   "source": [
    "file_path = 'data/task1.dat'                 \n",
    "print(\"The first five contents of the data list is {0}\".format(read_data_into_memory(file_path)[:5]))"
   ]
  },
  {
   "cell_type": "markdown",
   "metadata": {},
   "source": [
    "### Requirement FR1.9 - Design and build a data structure to store CSV data in memory\n",
    "  1. To facilitate finding the delimeter from the delimited data automatically, I wrote custom function find\\_delimiter() which finds from the common set of delimeters used.\n",
    "  2. Loop through the list of data, split with the delimeter and append to a list.\n",
    "  3. Get the header (first item in the list)\n",
    "  4. Ge the values (rest of the items in the list).\n",
    "  5. Transpose the list of values to get the mapping of columns to their values correctly.\n",
    "  6. In a dictionary, stored values of the transposed list to their respective key (column)."
   ]
  },
  {
   "cell_type": "code",
   "execution_count": 18,
   "metadata": {},
   "outputs": [],
   "source": [
    "def find_delimiter(data):\n",
    "    '''\n",
    "    Find the delimeter seperating the file contents\n",
    "    input: Lists\n",
    "    output: String\n",
    "    '''\n",
    "    special_characters = ',;\\t|'\n",
    "\n",
    "    for each_char in data[0]:\n",
    "        for each_special_character in special_characters:\n",
    "            if each_special_character==each_char:\n",
    "                return each_special_character\n",
    "                \n",
    "def read_and_store_data(input_data):\n",
    "    '''\n",
    "    Enabling Storage of multiple data values per CSV row and custom named data values\n",
    "    input: Lists\n",
    "    output: Dict - Key:value(list) pair\n",
    "    '''\n",
    "    data_collection = []\n",
    "    result = {}\n",
    "    \n",
    "    delimiter = find_delimiter(input_data)\n",
    "    \n",
    "    [data_collection.append(line.split(delimiter)) for line in input_data]\n",
    "    headers = data_collection[0]\n",
    "    values = data_collection[1:]\n",
    "    \n",
    "    # Transpose values\n",
    "    new_values = list(map(list, zip(*values)))\n",
    "    \n",
    "    for i in range(len(data_collection[0])):\n",
    "        result[str(headers[i])] = new_values[i]\n",
    "        \n",
    "    return result"
   ]
  },
  {
   "cell_type": "markdown",
   "metadata": {},
   "source": [
    "#### Test FR1.9 ####"
   ]
  },
  {
   "cell_type": "code",
   "execution_count": 19,
   "metadata": {},
   "outputs": [
    {
     "data": {
      "text/plain": [
       "{'col1': ['1', '4'], 'col2': ['2', '5'], 'col3': ['3', '6']}"
      ]
     },
     "execution_count": 19,
     "metadata": {},
     "output_type": "execute_result"
    }
   ],
   "source": [
    "data = ['col1,col2,col3','1,2,3','4,5,6']\n",
    "read_and_store_data(data)"
   ]
  },
  {
   "cell_type": "markdown",
   "metadata": {},
   "source": [
    "### Requirement FR1.10 - Create and demonstrate a function to read CSV data from a file into memory\n",
    "  1. While input file task1.csv is open, looped through each list and stripped off to remove \\n and store them to a list.\n",
    "  2. Called function from FR1.9 to get the dictionary of lists."
   ]
  },
  {
   "cell_type": "code",
   "execution_count": 20,
   "metadata": {},
   "outputs": [],
   "source": [
    "def read_csv_data(inputfile_path):\n",
    "    '''\n",
    "    Reading CSV data task1.csv\n",
    "    input: String - CSV File path\n",
    "    output: Dict - Key:value(list) pair \n",
    "    \n",
    "    '''\n",
    "    \n",
    "    with open(inputfile_path, 'r') as file_obj:\n",
    "        data = [line.rstrip() for line in file_obj] \n",
    "            \n",
    "    return read_and_store_data(data)"
   ]
  },
  {
   "cell_type": "markdown",
   "metadata": {},
   "source": [
    "#### Test FR1.10 ####"
   ]
  },
  {
   "cell_type": "code",
   "execution_count": 21,
   "metadata": {},
   "outputs": [
    {
     "name": "stdout",
     "output_type": "stream",
     "text": [
      "The first five contents of the data from each column :\n",
      "{'Pregnancies': ['6', '1', '8', '1', '0'], 'Glucose': ['148', '85', '183', '89', '137'], 'BloodPressure': ['72', '66', '64', '66', '40'], 'SkinThickness': ['35', '29', '0', '23', '35'], 'Insulin': ['0', '0', '0', '94', '168'], 'BMI': ['33.6', '26.6', '23.3', '28.1', '43.1'], 'DiabetesPedigreeFunction': ['0.627', '0.351', '0.672', '0.167', '2.288'], 'Age': ['50', '31', '32', '21', '33'], 'Outcome': ['1', '0', '1', '0', '1']}\n"
     ]
    }
   ],
   "source": [
    "file_path = 'data/task1.csv'\n",
    "result = read_csv_data(file_path)\n",
    "print(\"The first five contents of the data from each column :\\n{0}\".format({eachList: result[eachList][:5] for eachList in result}))"
   ]
  },
  {
   "cell_type": "markdown",
   "metadata": {},
   "source": [
    "### Requirement FR1.11 - Create and demonstrate a generic statistical summary function \n",
    "  1. Called function from FR1.10 to the dictionary of lists.\n",
    "  2. Parsed every value to Floating point.\n",
    "  3. Stored the Columns (dictionary keys) to a list\n",
    "  4. Used the same methodology from FR1.7 with a small change to the way I use the parameter. Used globals() to get the current global values as parameter to my customer function run\\_statistics\\_function.\n",
    "  5. Added the results as a tuple and then stored the tuples to a list.\n",
    "  6. Then in another list stores the column names, Statistics Operation and list of tuples (statistical results)."
   ]
  },
  {
   "cell_type": "code",
   "execution_count": 22,
   "metadata": {},
   "outputs": [],
   "source": [
    "def calculate_data(file_path):\n",
    "    '''\n",
    "    Function to perform statistical analysis for a CSV data file\n",
    "    input: String - CSV File path\n",
    "    output: Collection (Lists)\n",
    "    '''\n",
    "    result = []\n",
    "    result_collection = []\n",
    "    \n",
    "    csv_data = read_csv_data(file_path)\n",
    "    csv_data_converted = dict((key, [float(eachValue) for eachValue in values]) for key,values in csv_data.items())\n",
    "    columns = list(csv_data_converted.keys())\n",
    "    statFuncs = {'MEAN':'find_arithmetic_mean',\n",
    "                 'STD':'find_standard_deviation',\n",
    "                 'MIN':'find_min_value',\n",
    "                 '25%':'find_25th_percentile',\n",
    "                 '50%':'find_50th_percentile',\n",
    "                 '75%':'find_75th_percentile',\n",
    "                 'MAX':'find_max_value'\n",
    "                }\n",
    "    \n",
    "    for column in columns:\n",
    "        calc_values = []\n",
    "        for key,values in statFuncs.items():\n",
    "            try:\n",
    "                    calc_values.append(run_statistics_function(globals()[values],csv_data_converted[column],False))\n",
    "            except:\n",
    "                pass\n",
    "\n",
    "        result.append(tuple(calc_values))\n",
    "    \n",
    "    result_collection.append((columns,list(statFuncs.keys()),result))\n",
    "    return result_collection"
   ]
  },
  {
   "cell_type": "markdown",
   "metadata": {},
   "source": [
    "#### Test FR1.11 ####"
   ]
  },
  {
   "cell_type": "code",
   "execution_count": 23,
   "metadata": {},
   "outputs": [
    {
     "data": {
      "text/plain": [
       "[(['Pregnancies',\n",
       "   'Glucose',\n",
       "   'BloodPressure',\n",
       "   'SkinThickness',\n",
       "   'Insulin',\n",
       "   'BMI',\n",
       "   'DiabetesPedigreeFunction',\n",
       "   'Age',\n",
       "   'Outcome'],\n",
       "  ['MEAN', 'STD', 'MIN', '25%', '50%', '75%', 'MAX'],\n",
       "  [(3.85, 3.37, 0.0, 1.0, 3.0, 6.0, 17.0),\n",
       "   (120.89, 31.95, 0.0, 99.0, 117.0, 140.0, 199.0),\n",
       "   (69.11, 19.34, 0.0, 62.0, 72.0, 80.0, 122.0),\n",
       "   (20.54, 15.94, 0.0, 0.0, 23.0, 32.0, 99.0),\n",
       "   (79.8, 115.17, 0.0, 0.0, 29.0, 127.0, 846.0),\n",
       "   (31.99, 7.88, 0.0, 27.3, 32.0, 36.6, 67.1),\n",
       "   (0.47, 0.33, 0.078, 0.243, 0.371, 0.626, 2.42),\n",
       "   (33.24, 11.75, 21.0, 24.0, 29.0, 41.0, 81.0),\n",
       "   (0.35, 0.48, 0.0, 0.0, 0.0, 1.0, 1.0)])]"
      ]
     },
     "execution_count": 23,
     "metadata": {},
     "output_type": "execute_result"
    }
   ],
   "source": [
    "file_path = 'data/task1.csv'\n",
    "calculate_data(file_path)"
   ]
  },
  {
   "cell_type": "markdown",
   "metadata": {},
   "source": [
    "### Requirement FR1.12 - Create and demonstrate a function to print a custom table\n",
    "I have made two variants of the tables. One with beautified table font and color formatted and the other without font and color formatting. Reason I did two variants is because in gitlab, the first variant is not formatting online. So please view this in a notebook.\n",
    "\n",
    "  1. Called function from FR1.11 to get the values(column names, Statistics Operation and list of tuples (statistical results)).\n",
    "  2. Separated the list to address individual variables.\n",
    "  3. Added an empty value to column string to represent an empty header at start during table display.\n",
    "  4. Looped through columns and printed column names and stripped to 7 characters to avoid line overuse and spaced equally.\n",
    "  5. Looped through each statistical result set\n",
    "\n",
    "- Print &quot;-&quot; 10 times along with value\n",
    "\n",
    "- Looped through each value and printed &quot;|&quot; as border.\n",
    "\n",
    "- Spaced every values equally between borders.\n",
    "\n",
    "- For beautifying the table, During Step 5, I appended ANCI escape sequences to bold the descriptive texts (headers and Stat functions) and colored sky blue for the values."
   ]
  },
  {
   "cell_type": "code",
   "execution_count": 24,
   "metadata": {},
   "outputs": [],
   "source": [
    "def show_calculation_summary_V1(file_path):\n",
    "    '''\n",
    "    Printing Statistical summary in a plane tabular format\n",
    "    input: String - CSV File path\n",
    "    '''\n",
    "    calc_values_collection = calculate_data(file_path)\n",
    "    calc_values = calc_values_collection[0][2]\n",
    "    stat_functions = calc_values_collection[0][1]\n",
    "    columns = calc_values_collection[0][0]\n",
    "    to_table = []\n",
    "    columns.insert(0,'')\n",
    "    \n",
    "    for each_column in columns:\n",
    "        print(\"| {:^7}\".format(each_column[:7]), end = \" \")\n",
    "        \n",
    "    print(\"|\")\n",
    "    \n",
    "    for i in range(len(stat_functions)):\n",
    "        temp = []\n",
    "        temp.append(stat_functions[i])\n",
    "        \n",
    "        for row in calc_values:\n",
    "            temp.append(float(round(row[i], 2)))\n",
    "        to_table.append(temp)\n",
    "    \n",
    "    for row in to_table:\n",
    "        print(\"----------\"*len(row)+\"-\")\n",
    "        count = 0\n",
    "        for value in row:\n",
    "            if count > 0:\n",
    "                print(\"|\"+\" {:^7}\".format(str(value)), end=\" \")\n",
    "            else:\n",
    "                print(\"|\"+\" {:^7}\".format(str(value)), end=\" \")\n",
    "            count+=1\n",
    "            \n",
    "        print(\"|\")\n",
    "    print(\"----------\"*len(row)+\"-\")\n",
    "\n",
    "def show_calculation_summary_V2(file_path):\n",
    "    '''\n",
    "    Printing Statistical summary in a colored tabular format \n",
    "    String - CSV File path\n",
    "    '''\n",
    "    calc_values_collection = calculate_data(file_path)\n",
    "    calc_values = calc_values_collection[0][2]\n",
    "    stat_functions = calc_values_collection[0][1]\n",
    "    columns = calc_values_collection[0][0]\n",
    "    to_table = []\n",
    "    columns.insert(0,'')\n",
    "    \n",
    "    for each_column in columns:\n",
    "        print(\"\\033[1m\"+\"| {:^7}\".format(each_column[:7]), end = \"\\033[0m \")\n",
    "        \n",
    "    print(\"|\")\n",
    "    \n",
    "    for i in range(len(stat_functions)):\n",
    "        temp = []\n",
    "        temp.append(stat_functions[i])\n",
    "        \n",
    "        for row in calc_values:\n",
    "            temp.append(float(round(row[i], 2)))\n",
    "        to_table.append(temp)\n",
    "    \n",
    "    for row in to_table:\n",
    "        print(\"----------\"*len(row)+\"-\")\n",
    "        count = 0\n",
    "        for value in row:\n",
    "            if count > 0:\n",
    "                print(\"|\"+\"\\033[36m\"+\" {:^7}\".format(str(value)), end=\"\\033[0m \")\n",
    "            else:\n",
    "                print(\"|\"+\"\\033[1m\"+\" {:^7}\".format(str(value)), end=\"\\033[0m \")\n",
    "            count+=1\n",
    "            \n",
    "        print(\"|\")\n",
    "    print(\"----------\"*len(row)+\"-\")\n",
    "            "
   ]
  },
  {
   "cell_type": "markdown",
   "metadata": {},
   "source": [
    "#### Test FR1.12 ####"
   ]
  },
  {
   "cell_type": "code",
   "execution_count": 26,
   "metadata": {},
   "outputs": [
    {
     "name": "stdout",
     "output_type": "stream",
     "text": [
      "Statistical Summary in a Plane Tabular Format\n",
      "\n",
      "|         | Pregnan | Glucose | BloodPr | SkinThi | Insulin |   BMI   | Diabete |   Age   | Outcome |\n",
      "-----------------------------------------------------------------------------------------------------\n",
      "|  MEAN   |  3.85   | 120.89  |  69.11  |  20.54  |  79.8   |  31.99  |  0.47   |  33.24  |  0.35   |\n",
      "-----------------------------------------------------------------------------------------------------\n",
      "|   STD   |  3.37   |  31.95  |  19.34  |  15.94  | 115.17  |  7.88   |  0.33   |  11.75  |  0.48   |\n",
      "-----------------------------------------------------------------------------------------------------\n",
      "|   MIN   |   0.0   |   0.0   |   0.0   |   0.0   |   0.0   |   0.0   |  0.08   |  21.0   |   0.0   |\n",
      "-----------------------------------------------------------------------------------------------------\n",
      "|   25%   |   1.0   |  99.0   |  62.0   |   0.0   |   0.0   |  27.3   |  0.24   |  24.0   |   0.0   |\n",
      "-----------------------------------------------------------------------------------------------------\n",
      "|   50%   |   3.0   |  117.0  |  72.0   |  23.0   |  29.0   |  32.0   |  0.37   |  29.0   |   0.0   |\n",
      "-----------------------------------------------------------------------------------------------------\n",
      "|   75%   |   6.0   |  140.0  |  80.0   |  32.0   |  127.0  |  36.6   |  0.63   |  41.0   |   1.0   |\n",
      "-----------------------------------------------------------------------------------------------------\n",
      "|   MAX   |  17.0   |  199.0  |  122.0  |  99.0   |  846.0  |  67.1   |  2.42   |  81.0   |   1.0   |\n",
      "-----------------------------------------------------------------------------------------------------\n",
      "\n",
      "\n",
      "Statistical Summary in a Colored Tabular Format\n",
      "\n",
      "\u001b[1m|        \u001b[0m \u001b[1m| Pregnan\u001b[0m \u001b[1m| Glucose\u001b[0m \u001b[1m| BloodPr\u001b[0m \u001b[1m| SkinThi\u001b[0m \u001b[1m| Insulin\u001b[0m \u001b[1m|   BMI  \u001b[0m \u001b[1m| Diabete\u001b[0m \u001b[1m|   Age  \u001b[0m \u001b[1m| Outcome\u001b[0m |\n",
      "-----------------------------------------------------------------------------------------------------\n",
      "|\u001b[1m  MEAN  \u001b[0m |\u001b[36m  3.85  \u001b[0m |\u001b[36m 120.89 \u001b[0m |\u001b[36m  69.11 \u001b[0m |\u001b[36m  20.54 \u001b[0m |\u001b[36m  79.8  \u001b[0m |\u001b[36m  31.99 \u001b[0m |\u001b[36m  0.47  \u001b[0m |\u001b[36m  33.24 \u001b[0m |\u001b[36m  0.35  \u001b[0m |\n",
      "-----------------------------------------------------------------------------------------------------\n",
      "|\u001b[1m   STD  \u001b[0m |\u001b[36m  3.37  \u001b[0m |\u001b[36m  31.95 \u001b[0m |\u001b[36m  19.34 \u001b[0m |\u001b[36m  15.94 \u001b[0m |\u001b[36m 115.17 \u001b[0m |\u001b[36m  7.88  \u001b[0m |\u001b[36m  0.33  \u001b[0m |\u001b[36m  11.75 \u001b[0m |\u001b[36m  0.48  \u001b[0m |\n",
      "-----------------------------------------------------------------------------------------------------\n",
      "|\u001b[1m   MIN  \u001b[0m |\u001b[36m   0.0  \u001b[0m |\u001b[36m   0.0  \u001b[0m |\u001b[36m   0.0  \u001b[0m |\u001b[36m   0.0  \u001b[0m |\u001b[36m   0.0  \u001b[0m |\u001b[36m   0.0  \u001b[0m |\u001b[36m  0.08  \u001b[0m |\u001b[36m  21.0  \u001b[0m |\u001b[36m   0.0  \u001b[0m |\n",
      "-----------------------------------------------------------------------------------------------------\n",
      "|\u001b[1m   25%  \u001b[0m |\u001b[36m   1.0  \u001b[0m |\u001b[36m  99.0  \u001b[0m |\u001b[36m  62.0  \u001b[0m |\u001b[36m   0.0  \u001b[0m |\u001b[36m   0.0  \u001b[0m |\u001b[36m  27.3  \u001b[0m |\u001b[36m  0.24  \u001b[0m |\u001b[36m  24.0  \u001b[0m |\u001b[36m   0.0  \u001b[0m |\n",
      "-----------------------------------------------------------------------------------------------------\n",
      "|\u001b[1m   50%  \u001b[0m |\u001b[36m   3.0  \u001b[0m |\u001b[36m  117.0 \u001b[0m |\u001b[36m  72.0  \u001b[0m |\u001b[36m  23.0  \u001b[0m |\u001b[36m  29.0  \u001b[0m |\u001b[36m  32.0  \u001b[0m |\u001b[36m  0.37  \u001b[0m |\u001b[36m  29.0  \u001b[0m |\u001b[36m   0.0  \u001b[0m |\n",
      "-----------------------------------------------------------------------------------------------------\n",
      "|\u001b[1m   75%  \u001b[0m |\u001b[36m   6.0  \u001b[0m |\u001b[36m  140.0 \u001b[0m |\u001b[36m  80.0  \u001b[0m |\u001b[36m  32.0  \u001b[0m |\u001b[36m  127.0 \u001b[0m |\u001b[36m  36.6  \u001b[0m |\u001b[36m  0.63  \u001b[0m |\u001b[36m  41.0  \u001b[0m |\u001b[36m   1.0  \u001b[0m |\n",
      "-----------------------------------------------------------------------------------------------------\n",
      "|\u001b[1m   MAX  \u001b[0m |\u001b[36m  17.0  \u001b[0m |\u001b[36m  199.0 \u001b[0m |\u001b[36m  122.0 \u001b[0m |\u001b[36m  99.0  \u001b[0m |\u001b[36m  846.0 \u001b[0m |\u001b[36m  67.1  \u001b[0m |\u001b[36m  2.42  \u001b[0m |\u001b[36m  81.0  \u001b[0m |\u001b[36m   1.0  \u001b[0m |\n",
      "-----------------------------------------------------------------------------------------------------\n"
     ]
    }
   ],
   "source": [
    " \n",
    "print(\"Statistical Summary in a Plane Tabular Format\\n\")\n",
    "show_calculation_summary_V1('data/task1.csv')\n",
    "\n",
    "print(\"\\n\")\n",
    "\n",
    "print(\"Statistical Summary in a Colored Tabular Format\\n\")\n",
    "show_calculation_summary_V2('data/task1.csv')\n"
   ]
  },
  {
   "cell_type": "markdown",
   "metadata": {},
   "source": [
    "# Process Development Report for Task 1\n"
   ]
  },
  {
   "cell_type": "markdown",
   "metadata": {},
   "source": [
    "**Approach**:\n",
    "\n",
    "Coded following **PEP8** style guide. Tried to efficiently program and do code reusability as much as possible.  My aim was to take advantage of memory efficiency and lazy loading. Therefore reduced number of lines of code, created my own generators and minimized the value storage. In most cases, have used comprehensions of both dictionary and list as they make code concise and operate faster. \n",
    "\n",
    "**Improvements / Alternative Approaches**\n",
    "\n",
    "There are few areas where I could have pushed the code reusability more and optimised it further. I would not say my code is 100% efficient but could have added multiple ways of performing the tasks and timed to watch the best approach.\n",
    "\n",
    "**My Experience**:\n",
    "\n",
    "This journey tuned my python programming skills along the way. Overall, it was brilliant move for restricting library usage for testing the basics.\n",
    "\n",
    "**<i>References<i>**:\n",
    "1. www.mathsisfun.com\n",
    "2. Learning Materials(Programming for Data Science with Python, University of West of England) **By David Wyatt**\n",
    "3. Version Control - https://fetstudy.uwe.ac.uk/~di2-wyatt/FVQ/git_tutorial/#intro **By David Wyatt**\n",
    "4. Python My Bestie - An Easy and Efficient Way to Learn Python 2020 - **By Er Kumar Anurag**\n"
   ]
  }
 ],
 "metadata": {
  "kernelspec": {
   "display_name": "Python 3",
   "language": "python",
   "name": "python3"
  },
  "language_info": {
   "codemirror_mode": {
    "name": "ipython",
    "version": 3
   },
   "file_extension": ".py",
   "mimetype": "text/x-python",
   "name": "python",
   "nbconvert_exporter": "python",
   "pygments_lexer": "ipython3",
   "version": "3.8.5"
  }
 },
 "nbformat": 4,
 "nbformat_minor": 4
}
